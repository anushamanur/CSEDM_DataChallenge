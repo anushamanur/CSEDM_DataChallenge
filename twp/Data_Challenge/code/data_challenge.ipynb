{
 "cells": [
  {
   "cell_type": "code",
   "execution_count": 64,
   "metadata": {},
   "outputs": [],
   "source": [
    "import numpy as np\n",
    "import pandas as pd\n",
    "import scipy.stats as ss"
   ]
  },
  {
   "cell_type": "code",
   "execution_count": 84,
   "metadata": {
    "scrolled": true
   },
   "outputs": [],
   "source": [
    "df_main=pd.read_csv('dataset/MainTable.csv' )\n",
    "df_pred=pd.read_csv('dataset/Predict.csv' )"
   ]
  },
  {
   "cell_type": "code",
   "execution_count": 85,
   "metadata": {
    "scrolled": true
   },
   "outputs": [
    {
     "name": "stdout",
     "output_type": "stream",
     "text": [
      "  SubjectID         ProblemID  FirstCorrect  EverCorrect\n",
      "0      S002    nearestBusStop          True         True\n",
      "1      S002  backwardsCombine          True         True\n",
      "2      S002      firstAndLast         False         True\n",
      "3      S002    singlePigLatin         False         True\n",
      "4      S002      hasTwoDigits         False         True\n"
     ]
    }
   ],
   "source": [
    "df_data = df_pred.loc[:,['SubjectID','ProblemID','FirstCorrect','EverCorrect']]\n",
    "print (df_data.head(5))"
   ]
  },
  {
   "cell_type": "code",
   "execution_count": 67,
   "metadata": {},
   "outputs": [],
   "source": [
    "prob={'helloWorld':1, 'doubleX': 2,'raiseToPower': 3, 'convertToDegrees': 4, 'findRoot': 5, 'intToFloat': 6,\n",
    "    'leftoverCandy': 7, 'howManyEggCartons': 8, 'kthDigit':9, 'nearestBusStop':10, 'isPunctuation':11, \n",
    "    'overNineThousand':12, 'hasTwoDigits' :13, 'canDrinkAlcohol':14, 'isEvenPositiveInt':15, \n",
    "    'backwardsCombine': 16, 'carefulSquareRoot': 17, 'firstAndLast': 18, 'oneToN':19, 'castString' :20,\n",
    "    'stockChange': 21, 'singlePigLatin' :22, 'sumOfDigits': 23,'isPrime': 24, 'createNumberBlock': 25,\n",
    "    'isSubstring': 26, 'anyLowercase':27, 'middleElement': 28, 'secondHalf':29, 'reduceToPositive':30,\n",
    "    'factorial':31, 'fibonacci': 32,'friendOfFriends': 33, 'gcd':34, 'treasureHunt':35,  'mostAnagrams': 36,\n",
    "    'findTheCircle':37, 'listOfLists': 38        \n",
    "}\n",
    "    "
   ]
  },
  {
   "cell_type": "code",
   "execution_count": 68,
   "metadata": {},
   "outputs": [],
   "source": [
    "df_data.ProblemID= [prob[item] for item in df_data.ProblemID] \n",
    "df_main.ProblemID= [prob[item] for item in df_main.ProblemID] \n",
    "df_data = df_data.astype({\"ProblemID\": int})\n",
    "df_main = df_main.astype({\"ProblemID\": int})"
   ]
  },
  {
   "cell_type": "code",
   "execution_count": 69,
   "metadata": {
    "scrolled": true
   },
   "outputs": [
    {
     "name": "stdout",
     "output_type": "stream",
     "text": [
      "  SubjectID  ProblemID  FirstCorrect  EverCorrect  time\n",
      "0      S002         10          True         True   0.0\n",
      "1      S002         16          True         True   0.0\n",
      "2      S002         18         False         True  16.0\n",
      "3      S002         22         False         True   5.0\n",
      "4      S002         13         False         True   0.0\n"
     ]
    }
   ],
   "source": [
    "time=[]\n",
    "import datetime\n",
    "from datetime import timedelta\n",
    "datetimeFormat = '%Y-%m-%dT%H:%M:%S'\n",
    "for x,y in zip(df_data['SubjectID'],df_data['ProblemID']):\n",
    "    tstamp=df_main.loc[(df_main['SubjectID'] == x) & (df_main['ProblemID']==y),'ServerTimestamp']\n",
    "    c=0\n",
    "    n=len(tstamp)\n",
    "    everC=df_data.loc[(df_data['SubjectID'] == x) & (df_data['ProblemID']==y),'EverCorrect']\n",
    "    if everC.iloc[0] == False:\n",
    "        time.append(110)\n",
    "        continue\n",
    "             \n",
    "    for i in range(n-1):\n",
    "        diff=datetime.datetime.strptime(tstamp.iloc[i+1], datetimeFormat) -datetime.datetime.strptime(tstamp.iloc[i], datetimeFormat)\n",
    "               \n",
    "        if diff.days==0 and diff.seconds<=3600:\n",
    "            c+=diff.seconds \n",
    "      \n",
    "    time.append(c/60)\n",
    "\n",
    "df_data['time']=time\n",
    "print (df_data.head(5))\n"
   ]
  },
  {
   "cell_type": "code",
   "execution_count": 70,
   "metadata": {},
   "outputs": [],
   "source": [
    "prob_list = df_data['ProblemID'].unique()\n",
    "\n",
    "df_data['norm']=np.NaN\n",
    "for p in prob_list:\n",
    "    temp=[]\n",
    "    sub=df_data.loc[df_data['ProblemID'] == p,['SubjectID','time']]\n",
    "    amin, amax = min(sub['time']), max(sub['time'])\n",
    "    for x,y in zip(sub['SubjectID'],sub['time']):\n",
    "        norm_t=(y-amin) / (amax-amin)\n",
    "        df_data.loc[(df_data['ProblemID'] == p) & (df_data['SubjectID'] == x), 'norm'] = norm_t\n",
    "\n",
    "\n",
    "#print (df_data.head(25))"
   ]
  },
  {
   "cell_type": "code",
   "execution_count": 71,
   "metadata": {},
   "outputs": [
    {
     "name": "stdout",
     "output_type": "stream",
     "text": [
      "   SubjectID  ProblemID  FirstCorrect  EverCorrect   time      norm\n",
      "0       S002         10          True         True    0.0  0.000000\n",
      "1       S002         16          True         True    0.0  0.000000\n",
      "2       S002         18         False         True   16.0  0.850000\n",
      "3       S002         22         False         True    5.0  0.722222\n",
      "4       S002         13         False         True    0.0  0.000000\n",
      "5       S002         15         False         True   15.0  0.875000\n",
      "6       S011          1         False         True    1.0  0.656716\n",
      "7       S011          2          True         True    0.0  0.000000\n",
      "8       S011          3          True         True    0.0  0.000000\n",
      "9       S011          4          True         True    0.0  0.000000\n",
      "10      S011         11         False        False  110.0  1.000000\n",
      "11      S011          5         False        False  110.0  1.000000\n",
      "12      S011          7          True         True    0.0  0.000000\n",
      "13      S011          6          True         True    0.0  0.000000\n",
      "14      S011          8          True         True    0.0  0.000000\n",
      "15      S011          9         False        False  110.0  1.000000\n",
      "16      S011         10         False        False  110.0  1.000000\n",
      "17      S011         16          True         True    0.0  0.000000\n",
      "18      S011         18         False         True   29.0  0.950000\n",
      "19      S011         22         False         True    2.0  0.611111\n",
      "20      S011         12          True         True    0.0  0.000000\n",
      "21      S011         13         False         True    2.0  0.720000\n",
      "22      S011         14         False         True    0.0  0.000000\n",
      "23      S011         15          True         True    0.0  0.000000\n",
      "24      S011         19         False        False  110.0  1.000000\n"
     ]
    }
   ],
   "source": [
    "prob_list = df_data['ProblemID'].unique()\n",
    "\n",
    "for p in prob_list:\n",
    "    sub=df_data.loc[df_data['ProblemID'] == p]\n",
    "    r=sub.norm.rank(method='min')\n",
    "    amin, amax = min(r), max(r)\n",
    "    for x,y in zip(sub['SubjectID'],r):\n",
    "        norm_t=(y-amin) / (amax-amin)\n",
    "        df_data.loc[(df_data['ProblemID'] == p) & (df_data['SubjectID'] == x), 'norm'] = norm_t\n",
    "    \n",
    "print (df_data.head(25))        "
   ]
  },
  {
   "cell_type": "code",
   "execution_count": 72,
   "metadata": {},
   "outputs": [
    {
     "name": "stdout",
     "output_type": "stream",
     "text": [
      "SubjectID       171\n",
      "ProblemID       171\n",
      "FirstCorrect    171\n",
      "EverCorrect     171\n",
      "time            171\n",
      "norm            171\n",
      "dtype: int64\n"
     ]
    },
    {
     "data": {
      "image/png": "[encoded data removed]",
      "text/plain": [
       "<Figure size 432x288 with 1 Axes>"
      ]
     },
     "metadata": {
      "needs_background": "light"
     },
     "output_type": "display_data"
    }
   ],
   "source": [
    "from matplotlib.pyplot import hist\n",
    "#temp=df_data.loc[df_data['ProblemID'] == 1]\n",
    "df_data.hist(column='norm')\n",
    "temp = df_data[(df_data['norm'] >0) & (df_data['norm'] < 1)]\n",
    "print (temp.count())"
   ]
  },
  {
   "cell_type": "code",
   "execution_count": 73,
   "metadata": {},
   "outputs": [
    {
     "name": "stderr",
     "output_type": "stream",
     "text": [
      "/home/anusha/.local/lib/python3.5/site-packages/ipykernel_launcher.py:12: SettingWithCopyWarning: \n",
      "A value is trying to be set on a copy of a slice from a DataFrame\n",
      "\n",
      "See the caveats in the documentation: http://pandas.pydata.org/pandas-docs/stable/indexing.html#indexing-view-versus-copy\n",
      "  if sys.path[0] == '':\n"
     ]
    },
    {
     "name": "stdout",
     "output_type": "stream",
     "text": [
      "[[10, 16, 18, 22, 13, 15, 26], [1, 2, 3, 4, 11, 5, 7, 6, 8, 9, 10, 16, 18, 22, 12, 13, 14, 15, 26, 19, 23, 17], [1, 2, 3, 4, 11, 5, 6, 7, 8, 9], [1, 2, 3, 4, 11, 5, 6, 7, 8, 9, 10, 16, 18, 22, 12, 13], [14], [1, 2, 3, 4, 14, 15, 26], [1, 2, 3, 4, 11, 6, 8, 7, 9, 10, 16, 18, 22, 12, 13], [1, 2, 3, 4, 11, 5, 6, 7, 8, 16], [1, 2, 3, 4, 11, 5, 6, 7, 8, 9, 10, 16, 18, 22, 12, 13, 14, 15, 26, 19, 23, 25, 17, 20, 21, 27, 24, 28, 30, 29], [1, 2, 3, 4, 11, 6, 8, 7, 30], [35, 36], [1, 16, 18, 6, 2, 3, 4, 5, 7, 8], [1, 2, 3, 4, 11, 5, 6, 7, 8, 9], [19], [1, 3, 2, 4, 11, 5, 6, 7, 8, 9, 10, 16, 18, 22, 12, 13, 14, 26, 19, 17, 20, 21], [1, 2, 3, 4], [1], [1, 2, 3, 4, 5, 7, 6, 8, 9], [3, 4, 11, 6, 7, 8, 9, 10, 16, 18, 22, 12, 13, 14, 15, 1, 2, 5], [1], [1, 2, 3, 4, 11, 7, 6], [2, 1], [14, 29], [1, 2, 3, 4, 6, 5, 8, 7, 22, 12, 13, 14, 15, 24, 19], [1, 3, 2, 4, 11, 5, 6, 7, 8, 9, 10, 16, 18, 22, 12, 13, 14, 25], [1, 2, 3, 27], [1, 2, 3, 4], [1, 2, 3, 4, 11, 19, 5, 6, 7, 8, 9, 16, 22, 18, 12, 13, 14, 15, 21, 10, 17, 29, 28, 26, 23, 25, 30, 27, 24, 31, 32, 36, 34], [1, 2, 3, 4, 11, 5, 6, 7, 8, 9, 18, 16, 22, 12, 13, 14, 15, 31, 32, 19, 25, 10], [1, 2, 6, 16, 18, 22, 12, 13, 15, 26], [1, 2, 3, 4, 11, 16, 22], [9], [30], [1, 2, 3, 4, 6, 7, 16, 18, 14, 26, 19], [1, 2, 3, 4, 11], [1], [1, 2, 3, 4, 11, 36], [1, 2, 3, 4, 11, 6, 7], [1, 2, 3, 4, 11, 5, 7, 6, 8, 9, 10, 16, 18, 22, 12, 13, 14, 15, 26, 19, 23], [1, 2, 3, 4, 5, 6, 7, 8, 9, 10], [1, 2, 3], [1, 3, 2, 4], [1, 2, 3, 4, 5, 19], [1, 2, 3, 4, 5, 6, 7, 8, 9, 10, 12, 13, 14, 15, 17, 20, 21, 19, 24, 23, 25, 16, 18, 11, 26, 22, 27, 28], [19], [2], [1, 2], [1, 2], [1, 3, 2, 4, 5, 6, 7, 8, 9, 10, 12, 13, 14, 15, 17, 20, 21, 19], [19], [1, 2, 3, 4, 5, 6, 7, 8, 9, 10, 12, 13, 14, 15], [1, 2, 3, 4], [1, 2, 3, 4, 5, 6, 7, 8, 9, 10, 12, 13], [1], [1], [1, 2, 3, 4, 13, 27, 11, 24, 23, 14, 6, 5, 7, 8, 9, 10, 12, 15, 17, 20, 21, 19, 25, 16, 18, 26, 22, 28, 29, 30, 35, 38], [1, 2, 3, 4, 5, 6, 7, 8], [4], [1, 2, 3, 4, 5, 6, 7, 8, 9, 10, 12, 13, 14, 15, 17, 20, 21, 19, 24, 23, 25], [1, 2, 3, 4, 6, 5, 7, 8, 9], [1, 2, 3, 4, 5, 7, 6, 8, 9, 10, 12, 13, 14, 15, 17, 20, 21, 19, 24, 23, 25, 16, 31, 34, 32, 18, 11, 26, 22, 27], [2, 7, 25, 27, 38], [1, 2, 3, 4, 5, 6, 7, 8, 9, 10, 12, 13, 14, 15, 17, 20, 21, 19, 24, 23, 25, 16, 18, 11, 26], [1, 2, 3, 4, 6, 7, 5, 8, 9, 10, 12, 13, 14, 15, 17, 20, 21, 19, 24, 23, 25, 16, 18, 11, 26, 22, 27, 28, 29, 30, 35], [1, 2, 3, 4, 5, 6, 7, 8, 9, 19, 10, 12, 13, 14, 15, 17, 20, 21, 24, 23, 25, 16, 18, 26, 22, 11, 27, 28, 29, 30], [1, 2, 3, 4, 5, 6, 7, 8, 9, 10, 12, 13, 14, 15, 17], [14], [33, 1, 2, 3, 4, 5], [1, 2, 3, 4, 5, 6, 7, 8, 9, 10, 12, 13, 14, 15, 17, 20, 21, 19], [1], [1], [1, 2, 3, 4, 5, 6, 7, 8, 9, 10], [1, 2, 3, 4, 5, 6, 7, 8, 9, 10, 12, 13], [1, 2, 3, 4, 5, 6, 7, 8, 9, 10, 12, 13], [1, 2, 3, 4, 5, 6, 7, 8, 9, 10, 12, 13, 14, 15, 17, 20, 21], [1], [1, 2, 3, 4, 5, 6, 7, 8, 9, 10], [1, 2, 3, 19, 24, 23, 25, 14, 21], [1], [1], [1, 2, 3, 4, 5, 6, 7, 8, 9, 12, 10, 13, 15, 14, 17, 20, 21, 19, 24, 23, 25, 16, 18, 11, 26, 22, 27, 28], [33], [19, 24], [7, 2, 12], [1, 2, 3, 4, 5, 6, 7, 8, 9, 10, 12, 13], [1, 2, 3, 27, 22, 28, 30], [1], [1, 2, 3, 4, 6, 5, 7, 8, 9, 10], [3, 1, 2, 4, 11, 5, 6, 7, 8, 9, 10, 16, 18, 22, 12, 13, 14, 15, 26, 19, 23, 17, 20, 21, 27, 24, 28, 29, 30, 31, 32, 25, 34, 37, 38]]\n"
     ]
    }
   ],
   "source": [
    "s=set()\n",
    "\n",
    "datetimeFormat = '%Y-%m-%dT%H:%M:%S'\n",
    "\n",
    "df_copy=df_main.drop_duplicates(subset=['SubjectID', 'ProblemID'], keep='first')\n",
    "df_copy = df_copy[['SubjectID','ProblemID','ServerTimestamp']]\n",
    "df_copy['ServerTimestamp']=pd.to_datetime(df_copy['ServerTimestamp'], format=datetimeFormat)\n",
    "problem=[]\n",
    "stud = df_main['SubjectID'].unique()\n",
    "for x in stud:\n",
    "    subset=df_copy.loc[(df_main['SubjectID'] == x)]\n",
    "    subset.sort_values(by='ServerTimestamp', inplace=True)\n",
    "    #print (subset)\n",
    "    problem.append(list(subset['ProblemID']))\n",
    "    \n",
    "print(problem)"
   ]
  },
  {
   "cell_type": "code",
   "execution_count": 74,
   "metadata": {},
   "outputs": [
    {
     "name": "stdout",
     "output_type": "stream",
     "text": [
      "[[ 0. 61. 56. ...  2.  1.  2.]\n",
      " [ 1.  0. 52. ...  2.  1.  3.]\n",
      " [ 2.  6.  0. ...  2.  1.  2.]\n",
      " ...\n",
      " [ 0.  0.  0. ...  0.  0.  0.]\n",
      " [ 0.  0.  0. ...  0.  0.  1.]\n",
      " [ 0.  0.  0. ...  0.  0.  0.]]\n"
     ]
    }
   ],
   "source": [
    "count_mat=np.empty((38,38))\n",
    "count_mat.fill(0)\n",
    "for i in range(1,39):\n",
    "    for ar in problem:\n",
    "        if i in ar:\n",
    "            ind=ar.index(i)\n",
    "            for x in ar:\n",
    "                if x != i and x in ar:\n",
    "                    index=ar.index(x)\n",
    "                    if (index-ind) > 0:\n",
    "                        count_mat[i-1,x-1]+=1\n",
    "                \n",
    "print (count_mat)\n",
    "np.savetxt('count_mat.csv', count_mat, delimiter=',')              \n",
    "        "
   ]
  },
  {
   "cell_type": "code",
   "execution_count": 75,
   "metadata": {},
   "outputs": [
    {
     "name": "stdout",
     "output_type": "stream",
     "text": [
      "[[0.    0.984 0.966 ... 1.    1.    1.   ]\n",
      " [0.016 0.    0.897 ... 1.    1.    1.   ]\n",
      " [0.034 0.103 0.    ... 1.    1.    1.   ]\n",
      " ...\n",
      " [0.    0.    0.    ... 0.    0.    0.   ]\n",
      " [0.    0.    0.    ... 0.    0.    1.   ]\n",
      " [0.    0.    0.    ... 0.    0.    0.   ]]\n"
     ]
    },
    {
     "name": "stderr",
     "output_type": "stream",
     "text": [
      "/home/anusha/.local/lib/python3.5/site-packages/ipykernel_launcher.py:6: RuntimeWarning: invalid value encountered in double_scalars\n",
      "  \n"
     ]
    }
   ],
   "source": [
    "norm_mat=np.empty((38,38))\n",
    "norm_mat.fill(0) \n",
    "for i in range(0,38):\n",
    "    for j in range(0,38):\n",
    "        if i!=j:\n",
    "            norm_mat[i,j]=count_mat[i,j] / (count_mat[i,j] + count_mat[j,i])\n",
    "norm_mat[np.isnan(norm_mat)] = 0\n",
    "norm_mat=np.around(norm_mat,3)\n",
    "print (norm_mat)\n",
    "\n",
    "np.savetxt('norm_mat.csv', norm_mat, delimiter=',') "
   ]
  },
  {
   "cell_type": "code",
   "execution_count": 76,
   "metadata": {},
   "outputs": [],
   "source": [
    "df_norm=pd.DataFrame(norm_mat)\n",
    "df_norm['sum'] = df_norm.sum(axis=1)\n",
    "df_sort=df_norm.sort_values(by=['sum'], ascending=False)\n",
    "df_sort.loc['Total']= df_sort.sum()\n",
    "sorted_df = df_sort.sort_values(df_sort.last_valid_index(), axis=1)\n",
    "sorted_df.to_csv('sorted_mat.csv', sep='\\t', encoding='utf-8')"
   ]
  },
  {
   "cell_type": "code",
   "execution_count": 56,
   "metadata": {},
   "outputs": [
    {
     "data": {
      "text/plain": [
       "\"\\nsorter=[8,9,10,11,13,15,14,16,17,1,12,18,5,19,6,2,22,3,20,24,25,4,21,27,23,7,26,28,30,29,33,34,37,35,31,32,38,36]\\n\\n# Create the dictionary that defines the order for sorting\\nsorterIndex = dict(zip(sorter,range(len(sorter))))\\n\\n# Generate a rank column that will be used to sort the dataframe numerically\\ndf_data['Tm_Rank'] = df_data['ProblemID'].map(sorterIndex)\\n\\n\\ndf_data.sort_values(['SubjectID', 'Tm_Rank'], ascending = [True,True], inplace = True)\\ndf_data.drop('Tm_Rank', 1, inplace = True)\\nprint(df_data.head(15))\\n\\n\""
      ]
     },
     "execution_count": 56,
     "metadata": {},
     "output_type": "execute_result"
    }
   ],
   "source": [
    "\"\"\"\n",
    "sorter=[8,9,10,11,13,15,14,16,17,1,12,18,5,19,6,2,22,3,20,24,25,4,21,27,23,7,26,28,30,29,33,34,37,35,31,32,38,36]\n",
    "\n",
    "# Create the dictionary that defines the order for sorting\n",
    "sorterIndex = dict(zip(sorter,range(len(sorter))))\n",
    "\n",
    "# Generate a rank column that will be used to sort the dataframe numerically\n",
    "df_data['Tm_Rank'] = df_data['ProblemID'].map(sorterIndex)\n",
    "\n",
    "\n",
    "df_data.sort_values(['SubjectID', 'Tm_Rank'], ascending = [True,True], inplace = True)\n",
    "df_data.drop('Tm_Rank', 1, inplace = True)\n",
    "print(df_data.head(15))\n",
    "\n",
    "\"\"\""
   ]
  },
  {
   "cell_type": "code",
   "execution_count": 77,
   "metadata": {},
   "outputs": [
    {
     "name": "stdout",
     "output_type": "stream",
     "text": [
      "  SubjectID  ProblemID  FirstCorrect  EverCorrect  time    norm  \\\n",
      "0      S002         10          True         True   0.0  0.0000   \n",
      "1      S002         16          True         True   0.0  0.0000   \n",
      "2      S002         18         False         True  16.0  0.8500   \n",
      "3      S002         22         False         True   5.0  0.7222   \n",
      "4      S002         13         False         True   0.0  0.0000   \n",
      "5      S002         15         False         True  15.0  0.8750   \n",
      "6      S011          1         False         True   1.0  0.6567   \n",
      "7      S011          2          True         True   0.0  0.0000   \n",
      "8      S011          3          True         True   0.0  0.0000   \n",
      "9      S011          4          True         True   0.0  0.0000   \n",
      "\n",
      "   avg_prior_percent_correct  \n",
      "0                        NaN  \n",
      "1                      1.000  \n",
      "2                      1.000  \n",
      "3                      0.667  \n",
      "4                      0.500  \n",
      "5                      0.400  \n",
      "6                        NaN  \n",
      "7                      0.000  \n",
      "8                      0.500  \n",
      "9                      0.667  \n"
     ]
    }
   ],
   "source": [
    "df_data['avg_prior_percent_correct'] = np.nan\n",
    "stud = df_data['SubjectID'].unique()\n",
    "for x in stud:\n",
    "    num_prob=0\n",
    "    fc=0\n",
    "    for y in df_data.loc[(df_data['SubjectID'] == x),'ProblemID']:\n",
    "    \n",
    "        if num_prob==0:\n",
    "            df_data.loc[(df_data['SubjectID'] == x) & (df_data['ProblemID']==y),'avg_prior_percent_correct']=np.nan\n",
    "        else:\n",
    "            correct=fc/num_prob\n",
    "            df_data.loc[(df_data['SubjectID'] == x) & (df_data['ProblemID']==y),'avg_prior_percent_correct']=correct\n",
    "        first=df_data.loc[(df_data['SubjectID'] == x) & (df_data['ProblemID']==y),'FirstCorrect']\n",
    "        \n",
    "        if first.iloc[0] == True:\n",
    "            fc+=1\n",
    "        num_prob+=1\n",
    "df_data.avg_prior_percent_correct = df_data.avg_prior_percent_correct.round(decimals=3)   \n",
    "df_data.norm = df_data.norm.round(decimals=4)    \n",
    "print (df_data.head(10))\n",
    "        "
   ]
  },
  {
   "cell_type": "code",
   "execution_count": 78,
   "metadata": {},
   "outputs": [
    {
     "name": "stdout",
     "output_type": "stream",
     "text": [
      "   SubjectID  ProblemID  FirstCorrect  EverCorrect   time    norm  \\\n",
      "0       S002         10          True         True    0.0  0.0000   \n",
      "1       S002         16          True         True    0.0  0.0000   \n",
      "2       S002         18         False         True   16.0  0.8500   \n",
      "3       S002         22         False         True    5.0  0.7222   \n",
      "4       S002         13         False         True    0.0  0.0000   \n",
      "5       S002         15         False         True   15.0  0.8750   \n",
      "6       S011          1         False         True    1.0  0.6567   \n",
      "7       S011          2          True         True    0.0  0.0000   \n",
      "8       S011          3          True         True    0.0  0.0000   \n",
      "9       S011          4          True         True    0.0  0.0000   \n",
      "10      S011         11         False        False  110.0  1.0000   \n",
      "11      S011          5         False        False  110.0  1.0000   \n",
      "12      S011          7          True         True    0.0  0.0000   \n",
      "13      S011          6          True         True    0.0  0.0000   \n",
      "14      S011          8          True         True    0.0  0.0000   \n",
      "15      S011          9         False        False  110.0  1.0000   \n",
      "16      S011         10         False        False  110.0  1.0000   \n",
      "17      S011         16          True         True    0.0  0.0000   \n",
      "18      S011         18         False         True   29.0  0.9500   \n",
      "19      S011         22         False         True    2.0  0.6111   \n",
      "20      S011         12          True         True    0.0  0.0000   \n",
      "21      S011         13         False         True    2.0  0.7200   \n",
      "22      S011         14         False         True    0.0  0.0000   \n",
      "23      S011         15          True         True    0.0  0.0000   \n",
      "24      S011         19         False        False  110.0  1.0000   \n",
      "25      S014          1         False         True    0.0  0.0000   \n",
      "26      S014          2          True         True    0.0  0.0000   \n",
      "27      S014          3          True         True    0.0  0.0000   \n",
      "28      S014          4         False         True    1.0  0.6944   \n",
      "29      S014         11         False         True    1.0  0.3000   \n",
      "\n",
      "    avg_prior_percent_correct  avg_prior_percent_correct_prob  \n",
      "0                         NaN                          15.152  \n",
      "1                       1.000                          75.000  \n",
      "2                       1.000                          40.909  \n",
      "3                       0.667                          36.364  \n",
      "4                       0.500                          38.710  \n",
      "5                       0.400                          16.667  \n",
      "6                         NaN                          52.055  \n",
      "7                       0.000                          95.385  \n",
      "8                       0.500                          87.931  \n",
      "9                       0.667                          36.364  \n",
      "10                      0.750                          11.111  \n",
      "11                      0.600                          46.341  \n",
      "12                      0.500                          76.087  \n",
      "13                      0.571                          88.889  \n",
      "14                      0.625                          24.390  \n",
      "15                      0.667                          16.216  \n",
      "16                      0.600                          15.152  \n",
      "17                      0.545                          75.000  \n",
      "18                      0.583                          40.909  \n",
      "19                      0.538                          36.364  \n",
      "20                      0.500                          67.742  \n",
      "21                      0.533                          38.710  \n",
      "22                      0.500                          34.483  \n",
      "23                      0.471                          16.667  \n",
      "24                      0.500                          20.000  \n",
      "25                        NaN                          52.055  \n",
      "26                      0.000                          95.385  \n",
      "27                      0.500                          87.931  \n",
      "28                      0.667                          36.364  \n",
      "29                      0.500                          11.111  \n"
     ]
    }
   ],
   "source": [
    "df_data['avg_prior_percent_correct_prob'] = np.nan\n",
    "prob_list = df_data['ProblemID'].unique()\n",
    "for x in prob_list:\n",
    "    leng1=len(df_data.loc[(df_data['ProblemID'] == x) & (df_data['FirstCorrect']==True)])\n",
    "    leng2=len(df_data.loc[(df_data['ProblemID'] == x)])\n",
    "    df_data.loc[(df_data['ProblemID'] == x),'avg_prior_percent_correct_prob']=(leng1/leng2)*100\n",
    "df_data.avg_prior_percent_correct_prob = df_data.avg_prior_percent_correct_prob.round(decimals=3)   \n",
    "print (df_data.head(30))"
   ]
  },
  {
   "cell_type": "code",
   "execution_count": 79,
   "metadata": {},
   "outputs": [
    {
     "name": "stdout",
     "output_type": "stream",
     "text": [
      "  SubjectID  ProblemID  FirstCorrect  EverCorrect  time    norm  \\\n",
      "0      S002         10          True         True   0.0  0.0000   \n",
      "1      S002         16          True         True   0.0  0.0000   \n",
      "2      S002         18         False         True  16.0  0.8500   \n",
      "3      S002         22         False         True   5.0  0.7222   \n",
      "\n",
      "   avg_prior_percent_correct  avg_prior_percent_correct_prob   1   2 ...  10  \\\n",
      "0                        NaN                          15.152 NaN NaN ... NaN   \n",
      "1                      1.000                          75.000 NaN NaN ... NaN   \n",
      "2                      1.000                          40.909 NaN NaN ... NaN   \n",
      "3                      0.667                          36.364 NaN NaN ... NaN   \n",
      "\n",
      "   11  12  13  14  15  16  18  19  22  \n",
      "0 NaN NaN NaN NaN NaN NaN NaN NaN NaN  \n",
      "1 NaN NaN NaN NaN NaN NaN NaN NaN NaN  \n",
      "2 NaN NaN NaN NaN NaN NaN NaN NaN NaN  \n",
      "3 NaN NaN NaN NaN NaN NaN NaN NaN NaN  \n",
      "\n",
      "[4 rows x 27 columns]\n"
     ]
    }
   ],
   "source": [
    "ordered_list=[ 1,  2 , 3 , 4 , 5 , 6 , 7 , 8 , 9, 10, 11, 12, 13, 14, 15, 16, 18, 19, 22]\n",
    "for i in ordered_list:\n",
    "    df_data[i]=np.nan\n",
    "print (df_data.head(4))"
   ]
  },
  {
   "cell_type": "code",
   "execution_count": 80,
   "metadata": {},
   "outputs": [
    {
     "name": "stderr",
     "output_type": "stream",
     "text": [
      "/home/anusha/.local/lib/python3.5/site-packages/ipykernel_launcher.py:13: SettingWithCopyWarning: \n",
      "A value is trying to be set on a copy of a slice from a DataFrame\n",
      "\n",
      "See the caveats in the documentation: http://pandas.pydata.org/pandas-docs/stable/indexing.html#indexing-view-versus-copy\n",
      "  del sys.path[0]\n"
     ]
    },
    {
     "name": "stdout",
     "output_type": "stream",
     "text": [
      "[[10, 16, 18, 22, 13, 15], [1, 2, 3, 4, 11, 5, 7, 6, 8, 9, 10, 16, 18, 22, 12, 13, 14, 15, 19], [1, 2, 3, 4, 11, 5, 6, 7, 8, 9], [1, 2, 3, 4, 11, 5, 6, 7, 8, 9, 10, 16, 18, 22, 12, 13], [14], [1, 2, 3, 4, 14, 15], [1, 2, 3, 4, 11, 6, 8, 7, 9, 10, 16, 18, 22, 12, 13], [1, 2, 3, 4, 11, 5, 6, 7, 8, 16], [1, 2, 3, 4, 11, 5, 6, 7, 8, 9, 10, 16, 18, 22, 12, 13, 14, 15, 19], [1, 2, 3, 4, 11, 6, 8, 7], [1, 16, 18, 6, 2, 3, 4, 5, 7, 8], [1, 2, 3, 4, 11, 5, 6, 7, 8, 9], [19], [1, 3, 2, 4, 11, 5, 6, 7, 8, 9, 10, 16, 18, 22, 12, 13, 14, 19], [1, 2, 3, 4], [1], [1, 2, 3, 4, 5, 7, 6, 8, 9], [3, 4, 11, 6, 7, 8, 9, 10, 16, 18, 22, 12, 13, 14, 15, 1, 2, 5], [1], [1, 2, 3, 4, 11, 7, 6], [2, 1], [14], [1, 2, 3, 4, 6, 5, 8, 7, 22, 12, 13, 14, 15, 19], [1, 3, 2, 4, 11, 5, 6, 7, 8, 9, 10, 16, 18, 22, 12, 13, 14], [1, 2, 3], [1, 2, 3, 4], [1, 2, 3, 4, 11, 19, 5, 6, 7, 8, 9, 16, 22, 18, 12, 13, 14, 15, 10], [1, 2, 3, 4, 11, 5, 6, 7, 8, 9, 18, 16, 22, 12, 13, 14, 15, 19, 10], [1, 2, 6, 16, 18, 22, 12, 13, 15], [1, 2, 3, 4, 11, 16, 22], [9], [1, 2, 3, 4, 6, 7, 16, 18, 14, 19], [1, 2, 3, 4, 11], [1], [1, 2, 3, 4, 11], [1, 2, 3, 4, 11, 6, 7], [1, 2, 3, 4, 11, 5, 7, 6, 8, 9, 10, 16, 18, 22, 12, 13, 14, 15, 19], [1, 2, 3, 4, 5, 6, 7, 8, 9, 10], [1, 2, 3], [1, 3, 2, 4], [1, 2, 3, 4, 5, 19], [1, 2, 3, 4, 5, 6, 7, 8, 9, 10, 12, 13, 14, 15, 19, 16, 18, 11, 22], [19], [2], [1, 2], [1, 2], [1, 3, 2, 4, 5, 6, 7, 8, 9, 10, 12, 13, 14, 15, 19], [19], [1, 2, 3, 4, 5, 6, 7, 8, 9, 10, 12, 13, 14, 15], [1, 2, 3, 4], [1, 2, 3, 4, 5, 6, 7, 8, 9, 10, 12, 13], [1], [1], [1, 2, 3, 4, 13, 11, 14, 6, 5, 7, 8, 9, 10, 12, 15, 19, 16, 18, 22], [1, 2, 3, 4, 5, 6, 7, 8], [4], [1, 2, 3, 4, 5, 6, 7, 8, 9, 10, 12, 13, 14, 15, 19], [1, 2, 3, 4, 6, 5, 7, 8, 9], [1, 2, 3, 4, 5, 7, 6, 8, 9, 10, 12, 13, 14, 15, 19, 16, 18, 11, 22], [2, 7], [1, 2, 3, 4, 5, 6, 7, 8, 9, 10, 12, 13, 14, 15, 19, 16, 18, 11], [1, 2, 3, 4, 6, 7, 5, 8, 9, 10, 12, 13, 14, 15, 19, 16, 18, 11, 22], [1, 2, 3, 4, 5, 6, 7, 8, 9, 19, 10, 12, 13, 14, 15, 16, 18, 22, 11], [1, 2, 3, 4, 5, 6, 7, 8, 9, 10, 12, 13, 14, 15], [14], [1, 2, 3, 4, 5], [1, 2, 3, 4, 5, 6, 7, 8, 9, 10, 12, 13, 14, 15, 19], [1], [1], [1, 2, 3, 4, 5, 6, 7, 8, 9, 10], [1, 2, 3, 4, 5, 6, 7, 8, 9, 10, 12, 13], [1, 2, 3, 4, 5, 6, 7, 8, 9, 10, 12, 13], [1, 2, 3, 4, 5, 6, 7, 8, 9, 10, 12, 13, 14, 15], [1], [1, 2, 3, 4, 5, 6, 7, 8, 9, 10], [1, 2, 3, 19, 14], [1], [1], [1, 2, 3, 4, 5, 6, 7, 8, 9, 10, 12, 13, 14, 15, 19, 16, 18, 11, 22], [19], [7, 2, 12], [1, 2, 3, 4, 5, 6, 7, 8, 9, 10, 12, 13], [1, 2, 3, 22], [1], [1, 2, 3, 4, 6, 5, 7, 8, 9, 10], [3, 1, 2, 4, 11, 5, 6, 7, 8, 9, 10, 16, 18, 22, 12, 13, 14, 15, 19]]\n"
     ]
    }
   ],
   "source": [
    "s=set()\n",
    "pr_l=list(df_data.ProblemID.unique())\n",
    "\n",
    "datetimeFormat = '%Y-%m-%dT%H:%M:%S'\n",
    "\n",
    "df_copy=df_main.drop_duplicates(subset=['SubjectID', 'ProblemID'], keep='first')\n",
    "df_copy = df_copy[['SubjectID','ProblemID','ServerTimestamp']]\n",
    "df_copy['ServerTimestamp']=pd.to_datetime(df_copy['ServerTimestamp'], format=datetimeFormat)\n",
    "problem1=[]\n",
    "stud = df_data['SubjectID'].unique()\n",
    "for x in stud:\n",
    "    subset=df_copy.loc[(df_main['SubjectID'] == x) & df_main['ProblemID'].isin(pr_l)]\n",
    "    subset.sort_values(by='ServerTimestamp', inplace=True)\n",
    "    #print (subset)\n",
    "    problem1.append(list(subset['ProblemID']))\n",
    "    \n",
    "print (problem1)"
   ]
  },
  {
   "cell_type": "code",
   "execution_count": 81,
   "metadata": {},
   "outputs": [
    {
     "name": "stderr",
     "output_type": "stream",
     "text": [
      "/home/anusha/.local/lib/python3.5/site-packages/ipykernel_launcher.py:17: SettingWithCopyWarning: \n",
      "A value is trying to be set on a copy of a slice from a DataFrame\n",
      "\n",
      "See the caveats in the documentation: http://pandas.pydata.org/pandas-docs/stable/indexing.html#indexing-view-versus-copy\n"
     ]
    },
    {
     "name": "stdout",
     "output_type": "stream",
     "text": [
      "  SubjectID  ProblemID  FirstCorrect  EverCorrect  time    norm  \\\n",
      "0      S002         10          True         True   0.0  0.0000   \n",
      "1      S002         16          True         True   0.0  0.0000   \n",
      "2      S002         18         False         True  16.0  0.8500   \n",
      "3      S002         22         False         True   5.0  0.7222   \n",
      "4      S002         13         False         True   0.0  0.0000   \n",
      "5      S002         15         False         True  15.0  0.8750   \n",
      "6      S011          1         False         True   1.0  0.6567   \n",
      "7      S011          2          True         True   0.0  0.0000   \n",
      "\n",
      "   avg_prior_percent_correct  avg_prior_percent_correct_prob       1  2  \\\n",
      "0                        NaN                          15.152       -  -   \n",
      "1                      1.000                          75.000       -  -   \n",
      "2                      1.000                          40.909       -  -   \n",
      "3                      0.667                          36.364       -  -   \n",
      "4                      0.500                          38.710       -  -   \n",
      "5                      0.400                          16.667       -  -   \n",
      "6                        NaN                          52.055       -  -   \n",
      "7                      0.000                          95.385  0.6567  -   \n",
      "\n",
      "    ...   10 11 12 13 14 15 16    18 19      22  \n",
      "0   ...    -  -  -  -  -  -  -     -  -       -  \n",
      "1   ...    0  -  -  -  -  -  -     -  -       -  \n",
      "2   ...    0  -  -  -  -  -  0     -  -       -  \n",
      "3   ...    0  -  -  -  -  -  0  0.85  -       -  \n",
      "4   ...    0  -  -  -  -  -  0  0.85  -  0.7222  \n",
      "5   ...    0  -  -  0  -  -  0  0.85  -  0.7222  \n",
      "6   ...    -  -  -  -  -  -  -     -  -       -  \n",
      "7   ...    -  -  -  -  -  -  -     -  -       -  \n",
      "\n",
      "[8 rows x 27 columns]\n"
     ]
    }
   ],
   "source": [
    "s=set()\n",
    "\n",
    "\n",
    "datetimeFormat = '%Y-%m-%dT%H:%M:%S'\n",
    "\n",
    "df_copy=df_main.drop_duplicates(subset=['SubjectID', 'ProblemID'], keep='first')\n",
    "df_copy = df_copy[['SubjectID','ProblemID','ServerTimestamp']]\n",
    "df_copy['ServerTimestamp']=pd.to_datetime(df_copy['ServerTimestamp'], format=datetimeFormat)\n",
    "\n",
    "stud = df_data['SubjectID'].unique()\n",
    "df_data=df_data.drop_duplicates(subset=['SubjectID', 'ProblemID'], keep='first')\n",
    "for y in stud:\n",
    "    #print (y)\n",
    "    pr_l=list(df_data.loc[(df_data['SubjectID'] == y),'ProblemID'])\n",
    "    #print (\"pppp\",pr_l)\n",
    "    subset=df_copy.loc[(df_main['SubjectID'] == y) & df_main['ProblemID'].isin(pr_l)]\n",
    "    subset.sort_values(by='ServerTimestamp', inplace=True)\n",
    "    temp =list(subset['ProblemID'])\n",
    "    #print (temp,y)\n",
    "    subs=df_data.loc[(df_data['SubjectID'] == y)]\n",
    "    #print (subs)\n",
    "    for ind,row in subs.iterrows():\n",
    "        #print (\"r=\",row['ProblemID'])\n",
    "        \n",
    "        for x in ordered_list:\n",
    "            #print (\"p=\",x)\n",
    "            if x not in temp:\n",
    "                t='-'\n",
    "            else:\n",
    "                if temp.index(row['ProblemID'])==0:\n",
    "                    t='-'\n",
    "                elif temp.index(row['ProblemID'])<= temp.index(x):\n",
    "                    t='-'\n",
    "                else:\n",
    "                    #ind=temp.index(row['ProblemID'])-1\n",
    "                    #te=temp[ind]\n",
    "                    t=float(df_data.loc[(df_data['ProblemID'] == x) & (df_data['SubjectID'] == y),'norm'])\n",
    "                    #print (\"p=\",x,\"t=\",t)\n",
    "                    \n",
    "            \n",
    "            df_data.loc[(df_data['ProblemID'] == row['ProblemID']) & (df_data['SubjectID'] == y),x]=t\n",
    "    \n",
    "    \n",
    "print (df_data.head(8))            \n",
    "        \n",
    "\n"
   ]
  },
  {
   "cell_type": "code",
   "execution_count": 82,
   "metadata": {},
   "outputs": [],
   "source": [
    "df_data.to_csv('data_challenge.csv', sep='\\t', encoding='utf-8')"
   ]
  },
  {
   "cell_type": "code",
   "execution_count": null,
   "metadata": {},
   "outputs": [],
   "source": []
  }
 ],
 "metadata": {
  "kernelspec": {
   "display_name": "Python 3",
   "language": "python",
   "name": "python3"
  },
  "language_info": {
   "codemirror_mode": {
    "name": "ipython",
    "version": 3
   },
   "file_extension": ".py",
   "mimetype": "text/x-python",
   "name": "python",
   "nbconvert_exporter": "python",
   "pygments_lexer": "ipython3",
   "version": "3.5.2"
  }
 },
 "nbformat": 4,
 "nbformat_minor": 2
}
