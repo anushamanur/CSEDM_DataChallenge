{
 "cells": [
  {
   "cell_type": "code",
   "execution_count": 245,
   "metadata": {},
   "outputs": [
    {
     "name": "stdout",
     "output_type": "stream",
     "text": [
      "    FirstCorrect  avg_prior_percent_correct       1    2    3       4    5  \\\n",
      "12          True                      0.500  0.6567  0.0  0.0     0.0  1.0   \n",
      "32         False                      0.429     0.0  0.0  0.0  0.6944  1.0   \n",
      "42          True                      0.714  0.6567  0.0  0.0     0.0  0.0   \n",
      "65          True                      0.571  0.6567  0.0  0.0     0.0    -   \n",
      "80         False                      0.714     0.0  0.0  0.0  0.9444  0.0   \n",
      "\n",
      "      6  \n",
      "12    -  \n",
      "32  0.0  \n",
      "42  0.0  \n",
      "65  0.0  \n",
      "80  0.0  \n"
     ]
    }
   ],
   "source": [
    "import numpy as np\n",
    "import pandas as pd\n",
    "#fields=['SubjectID','ProblemID','FirstCorrect','time','norm','avg_prior_percent_correct','avg_prior_percent_correct_prob','1','2','3','4','5','6','7','8','9','10','11','12','13','14','15','16','18','19','22']\n",
    "fields_sub=['FirstCorrect','avg_prior_percent_correct','1','2','3','4','5','6']\n",
    "df_data=pd.read_csv('data_challenge.csv', sep='\\t')\n",
    "\n",
    "df_data=df_data.loc[(df_data['ProblemID'] == 7)]\n",
    "\n",
    "df_data=df_data[fields_sub]\n",
    "print (df_data.head(5))"
   ]
  },
  {
   "cell_type": "code",
   "execution_count": 246,
   "metadata": {},
   "outputs": [
    {
     "name": "stdout",
     "output_type": "stream",
     "text": [
      "FirstCorrect                 False\n",
      "avg_prior_percent_correct    False\n",
      "1                            False\n",
      "2                            False\n",
      "3                            False\n",
      "4                            False\n",
      "5                            False\n",
      "6                            False\n",
      "dtype: bool\n"
     ]
    }
   ],
   "source": [
    "from sklearn.model_selection import train_test_split\n",
    "\n",
    "df_data.replace('-', 0, inplace=True)\n",
    "df_data.replace(np.nan, 0, inplace=True)\n",
    "\n",
    "#df_data[\"5\"].fillna(df_data.mean(), inplace=True)\n",
    "\n",
    "print(df_data.isna().any())\n",
    "#print (df_data.head(10))\n",
    "df_train, df_test = train_test_split(df_data, test_size=0.2)"
   ]
  },
  {
   "cell_type": "code",
   "execution_count": 247,
   "metadata": {},
   "outputs": [],
   "source": [
    "\n",
    "df_train_y=df_train[['FirstCorrect']]\n",
    "df_train.drop(columns=['FirstCorrect'],inplace=True)\n",
    "df_test_y=df_test[['FirstCorrect']]\n",
    "df_test.drop(columns=['FirstCorrect'],inplace=True)\n",
    "#print (df_train.head(5))"
   ]
  },
  {
   "cell_type": "code",
   "execution_count": null,
   "metadata": {},
   "outputs": [],
   "source": []
  },
  {
   "cell_type": "code",
   "execution_count": 250,
   "metadata": {},
   "outputs": [
    {
     "name": "stdout",
     "output_type": "stream",
     "text": [
      "Index(['1', '5', '6'], dtype='object')\n"
     ]
    }
   ],
   "source": [
    "from sklearn import datasets, linear_model\n",
    "from sklearn.metrics import mean_squared_error, r2_score\n",
    "import statsmodels.api as sm\n",
    "\n",
    "\n",
    "X2 = sm.add_constant(df_train)\n",
    "est = sm.OLS(df_train_y.astype(float), X2.astype(float))\n",
    "est2 = est.fit()\n",
    "pee=round(est2.pvalues,4)\n",
    "#print(est2.summary())\n",
    "pee.drop(labels='const',inplace=True)\n",
    "\n",
    "#print (pee)\n",
    "print (pee.index)"
   ]
  },
  {
   "cell_type": "code",
   "execution_count": 249,
   "metadata": {},
   "outputs": [
    {
     "name": "stdout",
     "output_type": "stream",
     "text": [
      "1    0.2054\n",
      "2    0.6047\n",
      "3    0.5589\n",
      "4    0.2897\n",
      "5    0.0509\n",
      "6    0.0905\n",
      "dtype: float64\n",
      "1    0.2381\n",
      "3    0.5390\n",
      "4    0.2660\n",
      "5    0.0543\n",
      "6    0.0294\n",
      "dtype: float64\n",
      "1    0.1861\n",
      "4    0.2824\n",
      "5    0.0521\n",
      "6    0.0287\n",
      "dtype: float64\n",
      "1    0.0922\n",
      "5    0.0538\n",
      "6    0.0117\n",
      "dtype: float64\n",
      "1    0.0922\n",
      "5    0.0538\n",
      "6    0.0117\n",
      "dtype: float64\n"
     ]
    }
   ],
   "source": [
    "\n",
    "while max(pee)>0.1:\n",
    "    \n",
    "    idx=pee.idxmax()\n",
    "    pee.drop(labels=idx,inplace=True)\n",
    "    df_train.drop(labels=idx,inplace=True,axis=1)\n",
    "\n",
    "    X2 = sm.add_constant(df_train)\n",
    "    est = sm.OLS(df_train_y.astype(float), X2.astype(float))\n",
    "    est2 = est.fit()\n",
    "    pee=round(est2.pvalues,4)\n",
    "    pee.drop(labels='const',inplace=True)\n",
    "    print (pee)\n",
    " \n",
    "    \n",
    "print (pee)"
   ]
  },
  {
   "cell_type": "code",
   "execution_count": null,
   "metadata": {},
   "outputs": [],
   "source": []
  },
  {
   "cell_type": "code",
   "execution_count": null,
   "metadata": {},
   "outputs": [],
   "source": []
  }
 ],
 "metadata": {
  "kernelspec": {
   "display_name": "Python 3",
   "language": "python",
   "name": "python3"
  },
  "language_info": {
   "codemirror_mode": {
    "name": "ipython",
    "version": 3
   },
   "file_extension": ".py",
   "mimetype": "text/x-python",
   "name": "python",
   "nbconvert_exporter": "python",
   "pygments_lexer": "ipython3",
   "version": "3.5.2"
  }
 },
 "nbformat": 4,
 "nbformat_minor": 2
}
