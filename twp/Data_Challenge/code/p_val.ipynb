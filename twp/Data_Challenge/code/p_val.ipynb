{
 "cells": [
  {
   "cell_type": "code",
   "execution_count": 13,
   "metadata": {},
   "outputs": [
    {
     "name": "stdout",
     "output_type": "stream",
     "text": [
      "   Unnamed: 0 SubjectID  ProblemID  FirstCorrect  EverCorrect  time    norm  \\\n",
      "0           0      S002         10          True         True   0.0  0.0000   \n",
      "1           1      S002         16          True         True   0.0  0.0000   \n",
      "2           2      S002         18         False         True  16.0  0.8500   \n",
      "3           3      S002         22         False         True   5.0  0.7222   \n",
      "4           4      S002         13         False         True   0.0  0.0000   \n",
      "\n",
      "   avg_prior_percent_correct  avg_prior_percent_correct_prob        1  \\\n",
      "0                    0.63282                          15.152  0.23624   \n",
      "1                    1.00000                          75.000  0.23624   \n",
      "2                    1.00000                          40.909  0.23624   \n",
      "3                    0.66700                          36.364  0.23624   \n",
      "4                    0.50000                          38.710  0.23624   \n",
      "\n",
      "     ...           10        11        12        13        14        15  \\\n",
      "0    ...     0.601789  0.886022  0.066072  0.273663  0.343377  0.480978   \n",
      "1    ...     0.000000  0.886022  0.066072  0.273663  0.343377  0.480978   \n",
      "2    ...     0.000000  0.886022  0.066072  0.273663  0.343377  0.480978   \n",
      "3    ...     0.000000  0.886022  0.066072  0.273663  0.343377  0.480978   \n",
      "4    ...     0.000000  0.886022  0.066072  0.273663  0.343377  0.480978   \n",
      "\n",
      "         16        18        19        22  \n",
      "0  0.195453  0.477273  0.546024  0.714016  \n",
      "1  0.195453  0.477273  0.546024  0.714016  \n",
      "2  0.000000  0.477273  0.546024  0.714016  \n",
      "3  0.000000  0.850000  0.546024  0.714016  \n",
      "4  0.000000  0.850000  0.546024  0.722200  \n",
      "\n",
      "[5 rows x 28 columns]\n"
     ]
    }
   ],
   "source": [
    "import numpy as np\n",
    "import pandas as pd\n",
    "from sklearn.model_selection import train_test_split\n",
    "from sklearn import datasets, linear_model\n",
    "from sklearn.metrics import mean_squared_error, r2_score\n",
    "import statsmodels.api as sm\n",
    "import collections\n",
    "\n",
    "#fields=['SubjectID','ProblemID','FirstCorrect','time','norm','avg_prior_percent_correct','avg_prior_percent_correct_prob','1','2','3','4','5','6','7','8','9','10','11','12','13','14','15','16','18','19','22']\n",
    "fields_sub=['FirstCorrect','avg_prior_percent_correct','1','2','3','4','5','6', '7','8', '9', '10', '11', '12', '13', '14','15', '16', '18','19','22']\n",
    "df_data=pd.read_csv('data_challenge.csv', sep='\\t')\n",
    "\n",
    "df_data.replace('-', np.nan, inplace=True)\n",
    "probs=['1', '2', '3', '4', '5', '6', '7','8', '9', '10', '11', '12', '13', '14','15', '16', '18','19','22']\n",
    "df_data[probs] = df_data[probs].apply(pd.to_numeric, errors='coerce', axis=1)\n",
    "df_data.fillna(df_data.mean(),inplace=True)\n",
    "print (df_data.head(5))"
   ]
  },
  {
   "cell_type": "code",
   "execution_count": 14,
   "metadata": {},
   "outputs": [
    {
     "name": "stdout",
     "output_type": "stream",
     "text": [
      "1\n",
      "2\n",
      "3\n",
      "4\n",
      "5\n",
      "6\n",
      "7\n",
      "8\n",
      "9\n",
      "10\n",
      "11\n",
      "12\n",
      "13\n",
      "14\n",
      "16\n",
      "19\n"
     ]
    }
   ],
   "source": [
    "d = collections.OrderedDict()\n",
    "for p in probs:\n",
    "    if p in ['15','18','22']:\n",
    "        continue\n",
    "    print (p)\n",
    "    \n",
    "    df=df_data.loc[(df_data['ProblemID'] == int(p))]\n",
    "    df=df[fields_sub]\n",
    "    df.drop(columns=[p],inplace=True)\n",
    "    df_train, df_test = train_test_split(df, test_size=0.2)\n",
    "    df_train_y=df_train[['FirstCorrect']]\n",
    "    df_train.drop(columns=['FirstCorrect'],inplace=True)\n",
    "    df_test_y=df_test[['FirstCorrect']]\n",
    "    df_test.drop(columns=['FirstCorrect'],inplace=True)\n",
    "    pval=[2,2]\n",
    "    flag=0\n",
    "    temp=0\n",
    "    \n",
    "    while max(pval)>0.1:\n",
    "        if len(pval)==1:\n",
    "            flag=1\n",
    "            break\n",
    "        X2 = sm.add_constant(df_train)\n",
    "        est = sm.OLS(df_train_y.astype(float), X2.astype(float))\n",
    "        est2 = est.fit()\n",
    "        pval=round(est2.pvalues,4)\n",
    "    \n",
    "        if pval.index[0]=='const':\n",
    "            pval.drop(labels='const',inplace=True)\n",
    "        if len(pval)==3:\n",
    "            temp=pval.index\n",
    "        idx=pval.idxmax()\n",
    "        \n",
    "        pval.drop(labels=idx,inplace=True)\n",
    "        df_train.drop(labels=idx,inplace=True,axis=1)   \n",
    "    \n",
    "     \n",
    "    if flag==1:\n",
    "        d[p]=temp\n",
    "    else:\n",
    "        d[p]=pval.index\n",
    "    "
   ]
  },
  {
   "cell_type": "code",
   "execution_count": 15,
   "metadata": {},
   "outputs": [
    {
     "name": "stdout",
     "output_type": "stream",
     "text": [
      "OrderedDict([('1', Index(['13', '14', '16'], dtype='object')), ('2', Index(['1', '4', '5', '8', '9', '10', '11', '12', '13', '14', '15', '19',\n",
      "       '22'],\n",
      "      dtype='object')), ('3', Index(['4', '5', '7', '8', '9', '10', '11', '12', '13', '14', '15', '19',\n",
      "       '22'],\n",
      "      dtype='object')), ('4', Index(['avg_prior_percent_correct', '1'], dtype='object')), ('5', Index(['6'], dtype='object')), ('6', Index(['5', '8', '9', '10', '12', '15', '22'], dtype='object')), ('7', Index(['5', '9', '10', '12', '15', '19', '22'], dtype='object')), ('8', Index(['4', '5', '7', '13', '14'], dtype='object')), ('9', Index(['4', '5'], dtype='object')), ('10', Index(['4', '7', '9', '13', '22'], dtype='object')), ('11', Index(['5', '6', '7', '8', '9', '10', '12', '13', '14', '15', '16', '18', '19',\n",
      "       '22'],\n",
      "      dtype='object')), ('12', Index(['avg_prior_percent_correct', '2', '5', '8', '10', '11', '19', '22'], dtype='object')), ('13', Index(['1', '2', '3', '6', '8', '10', '11', '14', '15', '16', '19'], dtype='object')), ('14', Index(['avg_prior_percent_correct', '2', '5', '10'], dtype='object')), ('16', Index(['avg_prior_percent_correct', '1', '2', '3', '4', '5', '7', '8', '9',\n",
      "       '10', '11', '13', '15', '18', '19', '22'],\n",
      "      dtype='object')), ('19', Index(['avg_prior_percent_correct', '2', '4', '5', '10', '14'], dtype='object'))])\n"
     ]
    }
   ],
   "source": [
    "print (d)"
   ]
  },
  {
   "cell_type": "code",
   "execution_count": null,
   "metadata": {},
   "outputs": [],
   "source": []
  }
 ],
 "metadata": {
  "kernelspec": {
   "display_name": "Python 3",
   "language": "python",
   "name": "python3"
  },
  "language_info": {
   "codemirror_mode": {
    "name": "ipython",
    "version": 3
   },
   "file_extension": ".py",
   "mimetype": "text/x-python",
   "name": "python",
   "nbconvert_exporter": "python",
   "pygments_lexer": "ipython3",
   "version": "3.5.2"
  }
 },
 "nbformat": 4,
 "nbformat_minor": 2
}
